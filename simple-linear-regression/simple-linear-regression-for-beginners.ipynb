{
 "cells": [
  {
   "cell_type": "code",
   "execution_count": 1,
   "id": "9c298344",
   "metadata": {
    "execution": {
     "iopub.execute_input": "2023-04-11T06:03:39.682196Z",
     "iopub.status.busy": "2023-04-11T06:03:39.681540Z",
     "iopub.status.idle": "2023-04-11T06:03:40.749578Z",
     "shell.execute_reply": "2023-04-11T06:03:40.748272Z"
    },
    "papermill": {
     "duration": 1.080014,
     "end_time": "2023-04-11T06:03:40.752091",
     "exception": false,
     "start_time": "2023-04-11T06:03:39.672077",
     "status": "completed"
    },
    "tags": []
   },
   "outputs": [],
   "source": [
    "#import Important laibraries\n",
    "import pandas as pd\n",
    "import numpy as np\n",
    "import matplotlib.pyplot as plt\n",
    "import seaborn as sns"
   ]
  },
  {
   "cell_type": "code",
   "execution_count": 2,
   "id": "53eb5df9",
   "metadata": {
    "execution": {
     "iopub.execute_input": "2023-04-11T06:03:40.767807Z",
     "iopub.status.busy": "2023-04-11T06:03:40.767402Z",
     "iopub.status.idle": "2023-04-11T06:03:40.796003Z",
     "shell.execute_reply": "2023-04-11T06:03:40.794984Z"
    },
    "papermill": {
     "duration": 0.039033,
     "end_time": "2023-04-11T06:03:40.798263",
     "exception": false,
     "start_time": "2023-04-11T06:03:40.759230",
     "status": "completed"
    },
    "tags": []
   },
   "outputs": [],
   "source": [
    "#import data \n",
    "train = pd.read_csv(\"/kaggle/input/random-linear-regression/train.csv\")\n",
    "test = pd.read_csv(\"/kaggle/input/random-linear-regression/test.csv\")"
   ]
  },
  {
   "cell_type": "code",
   "execution_count": 3,
   "id": "f6f12489",
   "metadata": {
    "execution": {
     "iopub.execute_input": "2023-04-11T06:03:40.813261Z",
     "iopub.status.busy": "2023-04-11T06:03:40.812939Z",
     "iopub.status.idle": "2023-04-11T06:03:40.841923Z",
     "shell.execute_reply": "2023-04-11T06:03:40.840630Z"
    },
    "papermill": {
     "duration": 0.03907,
     "end_time": "2023-04-11T06:03:40.844313",
     "exception": false,
     "start_time": "2023-04-11T06:03:40.805243",
     "status": "completed"
    },
    "tags": []
   },
   "outputs": [
    {
     "data": {
      "text/html": [
       "<div>\n",
       "<style scoped>\n",
       "    .dataframe tbody tr th:only-of-type {\n",
       "        vertical-align: middle;\n",
       "    }\n",
       "\n",
       "    .dataframe tbody tr th {\n",
       "        vertical-align: top;\n",
       "    }\n",
       "\n",
       "    .dataframe thead th {\n",
       "        text-align: right;\n",
       "    }\n",
       "</style>\n",
       "<table border=\"1\" class=\"dataframe\">\n",
       "  <thead>\n",
       "    <tr style=\"text-align: right;\">\n",
       "      <th></th>\n",
       "      <th>x</th>\n",
       "      <th>y</th>\n",
       "    </tr>\n",
       "  </thead>\n",
       "  <tbody>\n",
       "    <tr>\n",
       "      <th>0</th>\n",
       "      <td>24.0</td>\n",
       "      <td>21.549452</td>\n",
       "    </tr>\n",
       "    <tr>\n",
       "      <th>1</th>\n",
       "      <td>50.0</td>\n",
       "      <td>47.464463</td>\n",
       "    </tr>\n",
       "    <tr>\n",
       "      <th>2</th>\n",
       "      <td>15.0</td>\n",
       "      <td>17.218656</td>\n",
       "    </tr>\n",
       "    <tr>\n",
       "      <th>3</th>\n",
       "      <td>38.0</td>\n",
       "      <td>36.586398</td>\n",
       "    </tr>\n",
       "    <tr>\n",
       "      <th>4</th>\n",
       "      <td>87.0</td>\n",
       "      <td>87.288984</td>\n",
       "    </tr>\n",
       "  </tbody>\n",
       "</table>\n",
       "</div>"
      ],
      "text/plain": [
       "      x          y\n",
       "0  24.0  21.549452\n",
       "1  50.0  47.464463\n",
       "2  15.0  17.218656\n",
       "3  38.0  36.586398\n",
       "4  87.0  87.288984"
      ]
     },
     "execution_count": 3,
     "metadata": {},
     "output_type": "execute_result"
    }
   ],
   "source": [
    "train.head()"
   ]
  },
  {
   "cell_type": "code",
   "execution_count": 4,
   "id": "e671a6fb",
   "metadata": {
    "execution": {
     "iopub.execute_input": "2023-04-11T06:03:40.860580Z",
     "iopub.status.busy": "2023-04-11T06:03:40.860236Z",
     "iopub.status.idle": "2023-04-11T06:03:40.867005Z",
     "shell.execute_reply": "2023-04-11T06:03:40.865932Z"
    },
    "papermill": {
     "duration": 0.017904,
     "end_time": "2023-04-11T06:03:40.869829",
     "exception": false,
     "start_time": "2023-04-11T06:03:40.851925",
     "status": "completed"
    },
    "tags": []
   },
   "outputs": [
    {
     "data": {
      "text/plain": [
       "(700, 2)"
      ]
     },
     "execution_count": 4,
     "metadata": {},
     "output_type": "execute_result"
    }
   ],
   "source": [
    "train.shape"
   ]
  },
  {
   "cell_type": "code",
   "execution_count": 5,
   "id": "0f12fdba",
   "metadata": {
    "execution": {
     "iopub.execute_input": "2023-04-11T06:03:40.886840Z",
     "iopub.status.busy": "2023-04-11T06:03:40.885835Z",
     "iopub.status.idle": "2023-04-11T06:03:40.894879Z",
     "shell.execute_reply": "2023-04-11T06:03:40.894219Z"
    },
    "papermill": {
     "duration": 0.019775,
     "end_time": "2023-04-11T06:03:40.897073",
     "exception": false,
     "start_time": "2023-04-11T06:03:40.877298",
     "status": "completed"
    },
    "tags": []
   },
   "outputs": [
    {
     "data": {
      "text/html": [
       "<div>\n",
       "<style scoped>\n",
       "    .dataframe tbody tr th:only-of-type {\n",
       "        vertical-align: middle;\n",
       "    }\n",
       "\n",
       "    .dataframe tbody tr th {\n",
       "        vertical-align: top;\n",
       "    }\n",
       "\n",
       "    .dataframe thead th {\n",
       "        text-align: right;\n",
       "    }\n",
       "</style>\n",
       "<table border=\"1\" class=\"dataframe\">\n",
       "  <thead>\n",
       "    <tr style=\"text-align: right;\">\n",
       "      <th></th>\n",
       "      <th>x</th>\n",
       "      <th>y</th>\n",
       "    </tr>\n",
       "  </thead>\n",
       "  <tbody>\n",
       "    <tr>\n",
       "      <th>0</th>\n",
       "      <td>77</td>\n",
       "      <td>79.775152</td>\n",
       "    </tr>\n",
       "    <tr>\n",
       "      <th>1</th>\n",
       "      <td>21</td>\n",
       "      <td>23.177279</td>\n",
       "    </tr>\n",
       "    <tr>\n",
       "      <th>2</th>\n",
       "      <td>22</td>\n",
       "      <td>25.609262</td>\n",
       "    </tr>\n",
       "    <tr>\n",
       "      <th>3</th>\n",
       "      <td>20</td>\n",
       "      <td>17.857388</td>\n",
       "    </tr>\n",
       "    <tr>\n",
       "      <th>4</th>\n",
       "      <td>36</td>\n",
       "      <td>41.849864</td>\n",
       "    </tr>\n",
       "  </tbody>\n",
       "</table>\n",
       "</div>"
      ],
      "text/plain": [
       "    x          y\n",
       "0  77  79.775152\n",
       "1  21  23.177279\n",
       "2  22  25.609262\n",
       "3  20  17.857388\n",
       "4  36  41.849864"
      ]
     },
     "execution_count": 5,
     "metadata": {},
     "output_type": "execute_result"
    }
   ],
   "source": [
    "test.head()"
   ]
  },
  {
   "cell_type": "code",
   "execution_count": 6,
   "id": "37ab175c",
   "metadata": {
    "execution": {
     "iopub.execute_input": "2023-04-11T06:03:40.914543Z",
     "iopub.status.busy": "2023-04-11T06:03:40.913188Z",
     "iopub.status.idle": "2023-04-11T06:03:40.922020Z",
     "shell.execute_reply": "2023-04-11T06:03:40.920526Z"
    },
    "papermill": {
     "duration": 0.019939,
     "end_time": "2023-04-11T06:03:40.924634",
     "exception": false,
     "start_time": "2023-04-11T06:03:40.904695",
     "status": "completed"
    },
    "tags": []
   },
   "outputs": [
    {
     "data": {
      "text/plain": [
       "(300, 2)"
      ]
     },
     "execution_count": 6,
     "metadata": {},
     "output_type": "execute_result"
    }
   ],
   "source": [
    "test.shape"
   ]
  },
  {
   "cell_type": "code",
   "execution_count": 7,
   "id": "fa787f10",
   "metadata": {
    "execution": {
     "iopub.execute_input": "2023-04-11T06:03:40.941243Z",
     "iopub.status.busy": "2023-04-11T06:03:40.940923Z",
     "iopub.status.idle": "2023-04-11T06:03:40.949780Z",
     "shell.execute_reply": "2023-04-11T06:03:40.948593Z"
    },
    "papermill": {
     "duration": 0.02002,
     "end_time": "2023-04-11T06:03:40.952234",
     "exception": false,
     "start_time": "2023-04-11T06:03:40.932214",
     "status": "completed"
    },
    "tags": []
   },
   "outputs": [
    {
     "data": {
      "text/plain": [
       "x    0\n",
       "y    1\n",
       "dtype: int64"
      ]
     },
     "execution_count": 7,
     "metadata": {},
     "output_type": "execute_result"
    }
   ],
   "source": [
    "train.isnull().sum()"
   ]
  },
  {
   "cell_type": "code",
   "execution_count": 8,
   "id": "392d7ed1",
   "metadata": {
    "execution": {
     "iopub.execute_input": "2023-04-11T06:03:40.970505Z",
     "iopub.status.busy": "2023-04-11T06:03:40.969862Z",
     "iopub.status.idle": "2023-04-11T06:03:40.998735Z",
     "shell.execute_reply": "2023-04-11T06:03:40.997625Z"
    },
    "papermill": {
     "duration": 0.04019,
     "end_time": "2023-04-11T06:03:41.000779",
     "exception": false,
     "start_time": "2023-04-11T06:03:40.960589",
     "status": "completed"
    },
    "tags": []
   },
   "outputs": [
    {
     "data": {
      "text/html": [
       "<div>\n",
       "<style scoped>\n",
       "    .dataframe tbody tr th:only-of-type {\n",
       "        vertical-align: middle;\n",
       "    }\n",
       "\n",
       "    .dataframe tbody tr th {\n",
       "        vertical-align: top;\n",
       "    }\n",
       "\n",
       "    .dataframe thead th {\n",
       "        text-align: right;\n",
       "    }\n",
       "</style>\n",
       "<table border=\"1\" class=\"dataframe\">\n",
       "  <thead>\n",
       "    <tr style=\"text-align: right;\">\n",
       "      <th></th>\n",
       "      <th>x</th>\n",
       "      <th>y</th>\n",
       "    </tr>\n",
       "  </thead>\n",
       "  <tbody>\n",
       "    <tr>\n",
       "      <th>count</th>\n",
       "      <td>700.000000</td>\n",
       "      <td>699.000000</td>\n",
       "    </tr>\n",
       "    <tr>\n",
       "      <th>mean</th>\n",
       "      <td>54.985939</td>\n",
       "      <td>49.939869</td>\n",
       "    </tr>\n",
       "    <tr>\n",
       "      <th>std</th>\n",
       "      <td>134.681703</td>\n",
       "      <td>29.109217</td>\n",
       "    </tr>\n",
       "    <tr>\n",
       "      <th>min</th>\n",
       "      <td>0.000000</td>\n",
       "      <td>-3.839981</td>\n",
       "    </tr>\n",
       "    <tr>\n",
       "      <th>25%</th>\n",
       "      <td>25.000000</td>\n",
       "      <td>24.929968</td>\n",
       "    </tr>\n",
       "    <tr>\n",
       "      <th>50%</th>\n",
       "      <td>49.000000</td>\n",
       "      <td>48.973020</td>\n",
       "    </tr>\n",
       "    <tr>\n",
       "      <th>75%</th>\n",
       "      <td>75.000000</td>\n",
       "      <td>74.929911</td>\n",
       "    </tr>\n",
       "    <tr>\n",
       "      <th>max</th>\n",
       "      <td>3530.157369</td>\n",
       "      <td>108.871618</td>\n",
       "    </tr>\n",
       "  </tbody>\n",
       "</table>\n",
       "</div>"
      ],
      "text/plain": [
       "                 x           y\n",
       "count   700.000000  699.000000\n",
       "mean     54.985939   49.939869\n",
       "std     134.681703   29.109217\n",
       "min       0.000000   -3.839981\n",
       "25%      25.000000   24.929968\n",
       "50%      49.000000   48.973020\n",
       "75%      75.000000   74.929911\n",
       "max    3530.157369  108.871618"
      ]
     },
     "execution_count": 8,
     "metadata": {},
     "output_type": "execute_result"
    }
   ],
   "source": [
    "train.describe()"
   ]
  },
  {
   "cell_type": "code",
   "execution_count": 9,
   "id": "b04543ea",
   "metadata": {
    "execution": {
     "iopub.execute_input": "2023-04-11T06:03:41.023746Z",
     "iopub.status.busy": "2023-04-11T06:03:41.022960Z",
     "iopub.status.idle": "2023-04-11T06:03:41.040946Z",
     "shell.execute_reply": "2023-04-11T06:03:41.039237Z"
    },
    "papermill": {
     "duration": 0.031729,
     "end_time": "2023-04-11T06:03:41.043558",
     "exception": false,
     "start_time": "2023-04-11T06:03:41.011829",
     "status": "completed"
    },
    "tags": []
   },
   "outputs": [
    {
     "name": "stdout",
     "output_type": "stream",
     "text": [
      "<class 'pandas.core.frame.DataFrame'>\n",
      "RangeIndex: 700 entries, 0 to 699\n",
      "Data columns (total 2 columns):\n",
      " #   Column  Non-Null Count  Dtype  \n",
      "---  ------  --------------  -----  \n",
      " 0   x       700 non-null    float64\n",
      " 1   y       699 non-null    float64\n",
      "dtypes: float64(2)\n",
      "memory usage: 11.1 KB\n"
     ]
    }
   ],
   "source": [
    "train.info()"
   ]
  },
  {
   "cell_type": "code",
   "execution_count": 10,
   "id": "bc40aefd",
   "metadata": {
    "execution": {
     "iopub.execute_input": "2023-04-11T06:03:41.064805Z",
     "iopub.status.busy": "2023-04-11T06:03:41.063824Z",
     "iopub.status.idle": "2023-04-11T06:03:41.070452Z",
     "shell.execute_reply": "2023-04-11T06:03:41.069550Z"
    },
    "papermill": {
     "duration": 0.017797,
     "end_time": "2023-04-11T06:03:41.072265",
     "exception": false,
     "start_time": "2023-04-11T06:03:41.054468",
     "status": "completed"
    },
    "tags": []
   },
   "outputs": [],
   "source": [
    "train.fillna(train.mean ,inplace = True)"
   ]
  },
  {
   "cell_type": "code",
   "execution_count": 11,
   "id": "93aad845",
   "metadata": {
    "execution": {
     "iopub.execute_input": "2023-04-11T06:03:41.089705Z",
     "iopub.status.busy": "2023-04-11T06:03:41.089328Z",
     "iopub.status.idle": "2023-04-11T06:03:41.105356Z",
     "shell.execute_reply": "2023-04-11T06:03:41.104443Z"
    },
    "papermill": {
     "duration": 0.027558,
     "end_time": "2023-04-11T06:03:41.107797",
     "exception": false,
     "start_time": "2023-04-11T06:03:41.080239",
     "status": "completed"
    },
    "tags": []
   },
   "outputs": [
    {
     "data": {
      "text/html": [
       "<div>\n",
       "<style scoped>\n",
       "    .dataframe tbody tr th:only-of-type {\n",
       "        vertical-align: middle;\n",
       "    }\n",
       "\n",
       "    .dataframe tbody tr th {\n",
       "        vertical-align: top;\n",
       "    }\n",
       "\n",
       "    .dataframe thead th {\n",
       "        text-align: right;\n",
       "    }\n",
       "</style>\n",
       "<table border=\"1\" class=\"dataframe\">\n",
       "  <thead>\n",
       "    <tr style=\"text-align: right;\">\n",
       "      <th></th>\n",
       "      <th>x</th>\n",
       "      <th>y</th>\n",
       "    </tr>\n",
       "  </thead>\n",
       "  <tbody>\n",
       "    <tr>\n",
       "      <th>count</th>\n",
       "      <td>300.000000</td>\n",
       "      <td>300.000000</td>\n",
       "    </tr>\n",
       "    <tr>\n",
       "      <th>mean</th>\n",
       "      <td>50.936667</td>\n",
       "      <td>51.205051</td>\n",
       "    </tr>\n",
       "    <tr>\n",
       "      <th>std</th>\n",
       "      <td>28.504286</td>\n",
       "      <td>29.071481</td>\n",
       "    </tr>\n",
       "    <tr>\n",
       "      <th>min</th>\n",
       "      <td>0.000000</td>\n",
       "      <td>-3.467884</td>\n",
       "    </tr>\n",
       "    <tr>\n",
       "      <th>25%</th>\n",
       "      <td>27.000000</td>\n",
       "      <td>25.676502</td>\n",
       "    </tr>\n",
       "    <tr>\n",
       "      <th>50%</th>\n",
       "      <td>53.000000</td>\n",
       "      <td>52.170557</td>\n",
       "    </tr>\n",
       "    <tr>\n",
       "      <th>75%</th>\n",
       "      <td>73.000000</td>\n",
       "      <td>74.303007</td>\n",
       "    </tr>\n",
       "    <tr>\n",
       "      <th>max</th>\n",
       "      <td>100.000000</td>\n",
       "      <td>105.591837</td>\n",
       "    </tr>\n",
       "  </tbody>\n",
       "</table>\n",
       "</div>"
      ],
      "text/plain": [
       "                x           y\n",
       "count  300.000000  300.000000\n",
       "mean    50.936667   51.205051\n",
       "std     28.504286   29.071481\n",
       "min      0.000000   -3.467884\n",
       "25%     27.000000   25.676502\n",
       "50%     53.000000   52.170557\n",
       "75%     73.000000   74.303007\n",
       "max    100.000000  105.591837"
      ]
     },
     "execution_count": 11,
     "metadata": {},
     "output_type": "execute_result"
    }
   ],
   "source": [
    "test.describe()"
   ]
  },
  {
   "cell_type": "code",
   "execution_count": 12,
   "id": "7df61991",
   "metadata": {
    "execution": {
     "iopub.execute_input": "2023-04-11T06:03:41.126628Z",
     "iopub.status.busy": "2023-04-11T06:03:41.125940Z",
     "iopub.status.idle": "2023-04-11T06:03:41.136523Z",
     "shell.execute_reply": "2023-04-11T06:03:41.135505Z"
    },
    "papermill": {
     "duration": 0.022524,
     "end_time": "2023-04-11T06:03:41.138577",
     "exception": false,
     "start_time": "2023-04-11T06:03:41.116053",
     "status": "completed"
    },
    "tags": []
   },
   "outputs": [
    {
     "name": "stdout",
     "output_type": "stream",
     "text": [
      "<class 'pandas.core.frame.DataFrame'>\n",
      "RangeIndex: 300 entries, 0 to 299\n",
      "Data columns (total 2 columns):\n",
      " #   Column  Non-Null Count  Dtype  \n",
      "---  ------  --------------  -----  \n",
      " 0   x       300 non-null    int64  \n",
      " 1   y       300 non-null    float64\n",
      "dtypes: float64(1), int64(1)\n",
      "memory usage: 4.8 KB\n"
     ]
    }
   ],
   "source": [
    "test.info()"
   ]
  },
  {
   "cell_type": "code",
   "execution_count": 13,
   "id": "eab67293",
   "metadata": {
    "execution": {
     "iopub.execute_input": "2023-04-11T06:03:41.156881Z",
     "iopub.status.busy": "2023-04-11T06:03:41.156518Z",
     "iopub.status.idle": "2023-04-11T06:03:41.476200Z",
     "shell.execute_reply": "2023-04-11T06:03:41.474734Z"
    },
    "papermill": {
     "duration": 0.331985,
     "end_time": "2023-04-11T06:03:41.478763",
     "exception": false,
     "start_time": "2023-04-11T06:03:41.146778",
     "status": "completed"
    },
    "tags": []
   },
   "outputs": [],
   "source": [
    "#import models libraries \n",
    "from sklearn.linear_model import LinearRegression,Lasso,Ridge\n",
    "from sklearn.model_selection import train_test_split\n",
    "from sklearn.metrics import mean_absolute_error , r2_score , mean_squared_error"
   ]
  },
  {
   "cell_type": "code",
   "execution_count": 14,
   "id": "a70db583",
   "metadata": {
    "execution": {
     "iopub.execute_input": "2023-04-11T06:03:41.497400Z",
     "iopub.status.busy": "2023-04-11T06:03:41.497036Z",
     "iopub.status.idle": "2023-04-11T06:03:41.504095Z",
     "shell.execute_reply": "2023-04-11T06:03:41.503111Z"
    },
    "papermill": {
     "duration": 0.019071,
     "end_time": "2023-04-11T06:03:41.506053",
     "exception": false,
     "start_time": "2023-04-11T06:03:41.486982",
     "status": "completed"
    },
    "tags": []
   },
   "outputs": [],
   "source": [
    "#split the data \n",
    "X_train = np.array(train.iloc[:, :-1].values)\n",
    "y_train = np.array(train.iloc[:, :1].values)\n",
    "X_test = np.array(test.iloc[:, :-1].values)\n",
    "y_test = np.array(test.iloc[:, :1].values)"
   ]
  },
  {
   "cell_type": "markdown",
   "id": "06bfde12",
   "metadata": {
    "papermill": {
     "duration": 0.007748,
     "end_time": "2023-04-11T06:03:41.521978",
     "exception": false,
     "start_time": "2023-04-11T06:03:41.514230",
     "status": "completed"
    },
    "tags": []
   },
   "source": [
    "# Linear Regression\n"
   ]
  },
  {
   "cell_type": "code",
   "execution_count": 15,
   "id": "7d054fd6",
   "metadata": {
    "execution": {
     "iopub.execute_input": "2023-04-11T06:03:41.539832Z",
     "iopub.status.busy": "2023-04-11T06:03:41.538657Z",
     "iopub.status.idle": "2023-04-11T06:03:41.564847Z",
     "shell.execute_reply": "2023-04-11T06:03:41.563958Z"
    },
    "papermill": {
     "duration": 0.037026,
     "end_time": "2023-04-11T06:03:41.566758",
     "exception": false,
     "start_time": "2023-04-11T06:03:41.529732",
     "status": "completed"
    },
    "tags": []
   },
   "outputs": [
    {
     "data": {
      "text/plain": [
       "LinearRegression()"
      ]
     },
     "execution_count": 15,
     "metadata": {},
     "output_type": "execute_result"
    }
   ],
   "source": [
    "#train the model on train data\n",
    "model = LinearRegression()\n",
    "model.fit(X_train, y_train)"
   ]
  },
  {
   "cell_type": "code",
   "execution_count": 16,
   "id": "51250b67",
   "metadata": {
    "execution": {
     "iopub.execute_input": "2023-04-11T06:03:41.584872Z",
     "iopub.status.busy": "2023-04-11T06:03:41.584255Z",
     "iopub.status.idle": "2023-04-11T06:03:41.589156Z",
     "shell.execute_reply": "2023-04-11T06:03:41.587795Z"
    },
    "papermill": {
     "duration": 0.016827,
     "end_time": "2023-04-11T06:03:41.591728",
     "exception": false,
     "start_time": "2023-04-11T06:03:41.574901",
     "status": "completed"
    },
    "tags": []
   },
   "outputs": [],
   "source": [
    "#predict the data\n",
    "y_pred = model.predict(X_test)"
   ]
  },
  {
   "cell_type": "code",
   "execution_count": 17,
   "id": "961a0dba",
   "metadata": {
    "execution": {
     "iopub.execute_input": "2023-04-11T06:03:41.609886Z",
     "iopub.status.busy": "2023-04-11T06:03:41.609489Z",
     "iopub.status.idle": "2023-04-11T06:03:41.616485Z",
     "shell.execute_reply": "2023-04-11T06:03:41.615563Z"
    },
    "papermill": {
     "duration": 0.018563,
     "end_time": "2023-04-11T06:03:41.618581",
     "exception": false,
     "start_time": "2023-04-11T06:03:41.600018",
     "status": "completed"
    },
    "tags": []
   },
   "outputs": [
    {
     "data": {
      "text/plain": [
       "1.0"
      ]
     },
     "execution_count": 17,
     "metadata": {},
     "output_type": "execute_result"
    }
   ],
   "source": [
    "r2_score(y_test,y_pred)"
   ]
  },
  {
   "cell_type": "code",
   "execution_count": 18,
   "id": "660dd498",
   "metadata": {
    "execution": {
     "iopub.execute_input": "2023-04-11T06:03:41.636168Z",
     "iopub.status.busy": "2023-04-11T06:03:41.635854Z",
     "iopub.status.idle": "2023-04-11T06:03:41.643980Z",
     "shell.execute_reply": "2023-04-11T06:03:41.642984Z"
    },
    "papermill": {
     "duration": 0.019565,
     "end_time": "2023-04-11T06:03:41.646426",
     "exception": false,
     "start_time": "2023-04-11T06:03:41.626861",
     "status": "completed"
    },
    "tags": []
   },
   "outputs": [
    {
     "data": {
      "text/plain": [
       "0.0"
      ]
     },
     "execution_count": 18,
     "metadata": {},
     "output_type": "execute_result"
    }
   ],
   "source": [
    "mean_absolute_error(y_test , y_pred)"
   ]
  },
  {
   "cell_type": "code",
   "execution_count": 19,
   "id": "4ee19fec",
   "metadata": {
    "execution": {
     "iopub.execute_input": "2023-04-11T06:03:41.666144Z",
     "iopub.status.busy": "2023-04-11T06:03:41.665280Z",
     "iopub.status.idle": "2023-04-11T06:03:41.672278Z",
     "shell.execute_reply": "2023-04-11T06:03:41.671512Z"
    },
    "papermill": {
     "duration": 0.018881,
     "end_time": "2023-04-11T06:03:41.674114",
     "exception": false,
     "start_time": "2023-04-11T06:03:41.655233",
     "status": "completed"
    },
    "tags": []
   },
   "outputs": [
    {
     "data": {
      "text/plain": [
       "0.0"
      ]
     },
     "execution_count": 19,
     "metadata": {},
     "output_type": "execute_result"
    }
   ],
   "source": [
    "mean_squared_error(y_test , y_pred)"
   ]
  },
  {
   "cell_type": "code",
   "execution_count": 20,
   "id": "f147e8c4",
   "metadata": {
    "execution": {
     "iopub.execute_input": "2023-04-11T06:03:41.693504Z",
     "iopub.status.busy": "2023-04-11T06:03:41.692596Z",
     "iopub.status.idle": "2023-04-11T06:03:41.968909Z",
     "shell.execute_reply": "2023-04-11T06:03:41.967638Z"
    },
    "papermill": {
     "duration": 0.289247,
     "end_time": "2023-04-11T06:03:41.971955",
     "exception": false,
     "start_time": "2023-04-11T06:03:41.682708",
     "status": "completed"
    },
    "tags": []
   },
   "outputs": [
    {
     "data": {
      "image/png": "[encoded data removed]",
      "text/plain": [
       "<Figure size 640x480 with 1 Axes>"
      ]
     },
     "metadata": {},
     "output_type": "display_data"
    }
   ],
   "source": [
    "#Draw the relation betwen test and prediction data using linear regression\n",
    "sns.regplot(x = y_test,y=y_pred)\n",
    "plt.title('Regression Analysis')\n",
    "plt.xlabel('y_test')\n",
    "plt.ylabel('y_pred')\n",
    "plt.grid()\n",
    "plt.show()"
   ]
  },
  {
   "cell_type": "markdown",
   "id": "1e254e3b",
   "metadata": {
    "papermill": {
     "duration": 0.008687,
     "end_time": "2023-04-11T06:03:41.990049",
     "exception": false,
     "start_time": "2023-04-11T06:03:41.981362",
     "status": "completed"
    },
    "tags": []
   },
   "source": [
    "# Ridge"
   ]
  },
  {
   "cell_type": "code",
   "execution_count": 21,
   "id": "5f45d7ea",
   "metadata": {
    "execution": {
     "iopub.execute_input": "2023-04-11T06:03:42.009416Z",
     "iopub.status.busy": "2023-04-11T06:03:42.008992Z",
     "iopub.status.idle": "2023-04-11T06:03:42.020042Z",
     "shell.execute_reply": "2023-04-11T06:03:42.018713Z"
    },
    "papermill": {
     "duration": 0.023889,
     "end_time": "2023-04-11T06:03:42.022587",
     "exception": false,
     "start_time": "2023-04-11T06:03:41.998698",
     "status": "completed"
    },
    "tags": []
   },
   "outputs": [
    {
     "data": {
      "text/plain": [
       "Ridge()"
      ]
     },
     "execution_count": 21,
     "metadata": {},
     "output_type": "execute_result"
    }
   ],
   "source": [
    "#train the model\n",
    "model1 = Ridge()\n",
    "model1.fit(X_train,y_train)"
   ]
  },
  {
   "cell_type": "code",
   "execution_count": 22,
   "id": "55df195e",
   "metadata": {
    "execution": {
     "iopub.execute_input": "2023-04-11T06:03:42.042922Z",
     "iopub.status.busy": "2023-04-11T06:03:42.041941Z",
     "iopub.status.idle": "2023-04-11T06:03:42.048257Z",
     "shell.execute_reply": "2023-04-11T06:03:42.046805Z"
    },
    "papermill": {
     "duration": 0.018799,
     "end_time": "2023-04-11T06:03:42.050537",
     "exception": false,
     "start_time": "2023-04-11T06:03:42.031738",
     "status": "completed"
    },
    "tags": []
   },
   "outputs": [],
   "source": [
    "#predict the data\n",
    "y_pred = model.predict(X_test)"
   ]
  },
  {
   "cell_type": "code",
   "execution_count": 23,
   "id": "ff5d2772",
   "metadata": {
    "execution": {
     "iopub.execute_input": "2023-04-11T06:03:42.071083Z",
     "iopub.status.busy": "2023-04-11T06:03:42.070730Z",
     "iopub.status.idle": "2023-04-11T06:03:42.078248Z",
     "shell.execute_reply": "2023-04-11T06:03:42.076896Z"
    },
    "papermill": {
     "duration": 0.021487,
     "end_time": "2023-04-11T06:03:42.081238",
     "exception": false,
     "start_time": "2023-04-11T06:03:42.059751",
     "status": "completed"
    },
    "tags": []
   },
   "outputs": [
    {
     "data": {
      "text/plain": [
       "1.0"
      ]
     },
     "execution_count": 23,
     "metadata": {},
     "output_type": "execute_result"
    }
   ],
   "source": [
    "r2_score(y_test , y_pred)"
   ]
  },
  {
   "cell_type": "code",
   "execution_count": 24,
   "id": "8ab76da7",
   "metadata": {
    "execution": {
     "iopub.execute_input": "2023-04-11T06:03:42.100843Z",
     "iopub.status.busy": "2023-04-11T06:03:42.100487Z",
     "iopub.status.idle": "2023-04-11T06:03:42.108326Z",
     "shell.execute_reply": "2023-04-11T06:03:42.107042Z"
    },
    "papermill": {
     "duration": 0.020235,
     "end_time": "2023-04-11T06:03:42.110605",
     "exception": false,
     "start_time": "2023-04-11T06:03:42.090370",
     "status": "completed"
    },
    "tags": []
   },
   "outputs": [
    {
     "data": {
      "text/plain": [
       "0.0"
      ]
     },
     "execution_count": 24,
     "metadata": {},
     "output_type": "execute_result"
    }
   ],
   "source": [
    "mean_squared_error(y_test , y_pred)"
   ]
  },
  {
   "cell_type": "code",
   "execution_count": 25,
   "id": "f0498334",
   "metadata": {
    "execution": {
     "iopub.execute_input": "2023-04-11T06:03:42.130863Z",
     "iopub.status.busy": "2023-04-11T06:03:42.130413Z",
     "iopub.status.idle": "2023-04-11T06:03:42.375406Z",
     "shell.execute_reply": "2023-04-11T06:03:42.374626Z"
    },
    "papermill": {
     "duration": 0.257497,
     "end_time": "2023-04-11T06:03:42.377211",
     "exception": false,
     "start_time": "2023-04-11T06:03:42.119714",
     "status": "completed"
    },
    "tags": []
   },
   "outputs": [
    {
     "data": {
      "image/png": "[encoded data removed]",
      "text/plain": [
       "<Figure size 640x480 with 1 Axes>"
      ]
     },
     "metadata": {},
     "output_type": "display_data"
    }
   ],
   "source": [
    "#Draw the relation betwen test and prediction data using Ridge\n",
    "sns.regplot(x = y_test,y=y_pred)\n",
    "plt.title('Regression Analysis')\n",
    "plt.xlabel('y_test')\n",
    "plt.ylabel('y_pred')\n",
    "plt.grid()\n",
    "plt.show()"
   ]
  },
  {
   "cell_type": "markdown",
   "id": "91d763be",
   "metadata": {
    "papermill": {
     "duration": 0.009971,
     "end_time": "2023-04-11T06:03:42.396801",
     "exception": false,
     "start_time": "2023-04-11T06:03:42.386830",
     "status": "completed"
    },
    "tags": []
   },
   "source": [
    "# Lasso Regression"
   ]
  },
  {
   "cell_type": "code",
   "execution_count": 26,
   "id": "c33251d6",
   "metadata": {
    "execution": {
     "iopub.execute_input": "2023-04-11T06:03:42.417763Z",
     "iopub.status.busy": "2023-04-11T06:03:42.417173Z",
     "iopub.status.idle": "2023-04-11T06:03:42.425352Z",
     "shell.execute_reply": "2023-04-11T06:03:42.424457Z"
    },
    "papermill": {
     "duration": 0.021019,
     "end_time": "2023-04-11T06:03:42.427266",
     "exception": false,
     "start_time": "2023-04-11T06:03:42.406247",
     "status": "completed"
    },
    "tags": []
   },
   "outputs": [
    {
     "data": {
      "text/plain": [
       "Lasso()"
      ]
     },
     "execution_count": 26,
     "metadata": {},
     "output_type": "execute_result"
    }
   ],
   "source": [
    "#train the model\n",
    "model = Lasso()\n",
    "model.fit(X_train , y_train)"
   ]
  },
  {
   "cell_type": "code",
   "execution_count": 27,
   "id": "38af3bde",
   "metadata": {
    "execution": {
     "iopub.execute_input": "2023-04-11T06:03:42.447491Z",
     "iopub.status.busy": "2023-04-11T06:03:42.447160Z",
     "iopub.status.idle": "2023-04-11T06:03:42.452889Z",
     "shell.execute_reply": "2023-04-11T06:03:42.451525Z"
    },
    "papermill": {
     "duration": 0.018197,
     "end_time": "2023-04-11T06:03:42.455028",
     "exception": false,
     "start_time": "2023-04-11T06:03:42.436831",
     "status": "completed"
    },
    "tags": []
   },
   "outputs": [],
   "source": [
    "#predict the data\n",
    "y_pred = model.predict(X_test)"
   ]
  },
  {
   "cell_type": "code",
   "execution_count": 28,
   "id": "eefc9c29",
   "metadata": {
    "execution": {
     "iopub.execute_input": "2023-04-11T06:03:42.477169Z",
     "iopub.status.busy": "2023-04-11T06:03:42.476185Z",
     "iopub.status.idle": "2023-04-11T06:03:42.483097Z",
     "shell.execute_reply": "2023-04-11T06:03:42.482372Z"
    },
    "papermill": {
     "duration": 0.019851,
     "end_time": "2023-04-11T06:03:42.484938",
     "exception": false,
     "start_time": "2023-04-11T06:03:42.465087",
     "status": "completed"
    },
    "tags": []
   },
   "outputs": [
    {
     "data": {
      "text/plain": [
       "0.9999999968903385"
      ]
     },
     "execution_count": 28,
     "metadata": {},
     "output_type": "execute_result"
    }
   ],
   "source": [
    "r2_score(y_test , y_pred)"
   ]
  },
  {
   "cell_type": "code",
   "execution_count": 29,
   "id": "bb9d19ea",
   "metadata": {
    "execution": {
     "iopub.execute_input": "2023-04-11T06:03:42.506611Z",
     "iopub.status.busy": "2023-04-11T06:03:42.505968Z",
     "iopub.status.idle": "2023-04-11T06:03:42.512443Z",
     "shell.execute_reply": "2023-04-11T06:03:42.511734Z"
    },
    "papermill": {
     "duration": 0.01952,
     "end_time": "2023-04-11T06:03:42.514308",
     "exception": false,
     "start_time": "2023-04-11T06:03:42.494788",
     "status": "completed"
    },
    "tags": []
   },
   "outputs": [
    {
     "data": {
      "text/plain": [
       "2.518160314394156e-06"
      ]
     },
     "execution_count": 29,
     "metadata": {},
     "output_type": "execute_result"
    }
   ],
   "source": [
    "mean_squared_error(y_test , y_pred)"
   ]
  },
  {
   "cell_type": "code",
   "execution_count": 30,
   "id": "73ae76f9",
   "metadata": {
    "execution": {
     "iopub.execute_input": "2023-04-11T06:03:42.536255Z",
     "iopub.status.busy": "2023-04-11T06:03:42.535546Z",
     "iopub.status.idle": "2023-04-11T06:03:42.778209Z",
     "shell.execute_reply": "2023-04-11T06:03:42.777266Z"
    },
    "papermill": {
     "duration": 0.255981,
     "end_time": "2023-04-11T06:03:42.780180",
     "exception": false,
     "start_time": "2023-04-11T06:03:42.524199",
     "status": "completed"
    },
    "tags": []
   },
   "outputs": [
    {
     "data": {
      "image/png": "[encoded data removed]",
      "text/plain": [
       "<Figure size 640x480 with 1 Axes>"
      ]
     },
     "metadata": {},
     "output_type": "display_data"
    }
   ],
   "source": [
    "#Draw the relation betwen test and prediction data using Lasso\n",
    "sns.regplot(x = y_test,y=y_pred)\n",
    "plt.title('Regression Analysis')\n",
    "plt.xlabel('y_test')\n",
    "plt.ylabel('y_pred')\n",
    "plt.grid()\n",
    "plt.show()"
   ]
  },
  {
   "cell_type": "code",
   "execution_count": null,
   "id": "c64dc515",
   "metadata": {
    "papermill": {
     "duration": 0.009604,
     "end_time": "2023-04-11T06:03:42.799862",
     "exception": false,
     "start_time": "2023-04-11T06:03:42.790258",
     "status": "completed"
    },
    "tags": []
   },
   "outputs": [],
   "source": []
  }
 ],
 "metadata": {
  "kernelspec": {
   "display_name": "Python 3",
   "language": "python",
   "name": "python3"
  },
  "language_info": {
   "codemirror_mode": {
    "name": "ipython",
    "version": 3
   },
   "file_extension": ".py",
   "mimetype": "text/x-python",
   "name": "python",
   "nbconvert_exporter": "python",
   "pygments_lexer": "ipython3",
   "version": "3.7.12"
  },
  "papermill": {
   "default_parameters": {},
   "duration": 12.643005,
   "end_time": "2023-04-11T06:03:43.531258",
   "environment_variables": {},
   "exception": null,
   "input_path": "__notebook__.ipynb",
   "output_path": "__notebook__.ipynb",
   "parameters": {},
   "start_time": "2023-04-11T06:03:30.888253",
   "version": "2.4.0"
  }
 },
 "nbformat": 4,
 "nbformat_minor": 5
}
